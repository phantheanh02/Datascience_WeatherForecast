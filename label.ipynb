{
 "cells": [
  {
   "cell_type": "code",
   "execution_count": 32,
   "metadata": {},
   "outputs": [],
   "source": [
    "import numpy as np\n",
    "import pandas as pd"
   ]
  },
  {
   "cell_type": "code",
   "execution_count": 47,
   "metadata": {},
   "outputs": [
    {
     "name": "stdout",
     "output_type": "stream",
     "text": [
      "<class 'pandas.core.frame.DataFrame'>\n",
      "RangeIndex: 23240 entries, 0 to 23239\n",
      "Data columns (total 12 columns):\n",
      " #   Column       Non-Null Count  Dtype  \n",
      "---  ------       --------------  -----  \n",
      " 0   time         23240 non-null  object \n",
      " 1   month        23240 non-null  int64  \n",
      " 2   temperature  23240 non-null  int64  \n",
      " 3   feelslike    23240 non-null  int64  \n",
      " 4   wind         23240 non-null  int64  \n",
      " 5   direction    23240 non-null  object \n",
      " 6   gust         23240 non-null  int64  \n",
      " 7   cloud        23240 non-null  int64  \n",
      " 8   rain         23240 non-null  float64\n",
      " 9   rain_ratio   23240 non-null  int64  \n",
      " 10  pressure     23240 non-null  int64  \n",
      " 11  weather      23240 non-null  object \n",
      "dtypes: float64(1), int64(8), object(3)\n",
      "memory usage: 2.1+ MB\n"
     ]
    }
   ],
   "source": [
    "data2016 = pd.read_csv('./data/weather_data_2016.csv', delimiter = ';')\n",
    "data2017 = pd.read_csv('./data/weather_data_2017.csv', delimiter = ';')\n",
    "data2018 = pd.read_csv('./data/weather_data_2018.csv', delimiter = ';')\n",
    "data2019 = pd.read_csv('./data/weather_data_2019.csv', delimiter = ';')\n",
    "data2020 = pd.read_csv('./data/weather_data_2020.csv', sep=\"\\t\")\n",
    "data2021 = pd.read_csv('./data/weather_data_2021.csv', sep=\"\\t\")\n",
    "data2022 = pd.read_csv('./data/weather_data_2022.csv', sep=\"\\t\")\n",
    "data2023 = pd.read_csv('./data/weather_data_2023.csv', sep=\"\\t\")\n",
    "data = pd.concat([data2016, data2017, data2018, data2019, data2020, data2021, data2022, data2023], ignore_index=True, axis=0)\n",
    "data.info()"
   ]
  },
  {
   "cell_type": "markdown",
   "metadata": {},
   "source": [
    "# Nhận xét\n",
    "Dữ liệu không có trống nhưng ta kiểm tra xem có giá trị nào bằng 0.0 hay không"
   ]
  },
  {
   "cell_type": "code",
   "execution_count": 56,
   "metadata": {},
   "outputs": [
    {
     "data": {
      "text/plain": [
       "51"
      ]
     },
     "execution_count": 56,
     "metadata": {},
     "output_type": "execute_result"
    }
   ],
   "source": [
    "len(data[data['temperature']== 0.0])"
   ]
  },
  {
   "cell_type": "code",
   "execution_count": 57,
   "metadata": {},
   "outputs": [
    {
     "data": {
      "text/plain": [
       "0"
      ]
     },
     "execution_count": 57,
     "metadata": {},
     "output_type": "execute_result"
    }
   ],
   "source": [
    "len(data[data['feelslike']== 0.0])"
   ]
  },
  {
   "cell_type": "code",
   "execution_count": 58,
   "metadata": {},
   "outputs": [
    {
     "data": {
      "text/plain": [
       "22"
      ]
     },
     "execution_count": 58,
     "metadata": {},
     "output_type": "execute_result"
    }
   ],
   "source": [
    "len(data[data['wind']== 0.0])"
   ]
  },
  {
   "cell_type": "code",
   "execution_count": 51,
   "metadata": {},
   "outputs": [
    {
     "data": {
      "text/plain": [
       "0"
      ]
     },
     "execution_count": 51,
     "metadata": {},
     "output_type": "execute_result"
    }
   ],
   "source": [
    "len(data[data['direction']== 0.0])"
   ]
  },
  {
   "cell_type": "code",
   "execution_count": 52,
   "metadata": {},
   "outputs": [
    {
     "data": {
      "text/plain": [
       "0"
      ]
     },
     "execution_count": 52,
     "metadata": {},
     "output_type": "execute_result"
    }
   ],
   "source": [
    "len(data[data['gust']== 0.0])"
   ]
  },
  {
   "cell_type": "code",
   "execution_count": 53,
   "metadata": {},
   "outputs": [
    {
     "data": {
      "text/plain": [
       "244"
      ]
     },
     "execution_count": 53,
     "metadata": {},
     "output_type": "execute_result"
    }
   ],
   "source": [
    "len(data[data['cloud']== 0.0])"
   ]
  },
  {
   "cell_type": "code",
   "execution_count": 54,
   "metadata": {
    "scrolled": true
   },
   "outputs": [
    {
     "data": {
      "text/plain": [
       "17496"
      ]
     },
     "execution_count": 54,
     "metadata": {},
     "output_type": "execute_result"
    }
   ],
   "source": [
    "len(data[data['rain']== 0.0])"
   ]
  },
  {
   "cell_type": "code",
   "execution_count": 55,
   "metadata": {
    "scrolled": true
   },
   "outputs": [
    {
     "data": {
      "text/plain": [
       "0"
      ]
     },
     "execution_count": 55,
     "metadata": {},
     "output_type": "execute_result"
    }
   ],
   "source": [
    "len(data[data['pressure']== 0.0])"
   ]
  },
  {
   "cell_type": "markdown",
   "metadata": {},
   "source": [
    "# Nhận xét\n",
    "Có một số dữ liệu là 0.0 nhưng hầu hết là hợp lý"
   ]
  },
  {
   "cell_type": "code",
   "execution_count": 63,
   "metadata": {},
   "outputs": [],
   "source": [
    "# Kiểm tra và gán giá trị nếu cần thiết\n",
    "data.loc[data['temperature'] == 0, 'temperature'] = data['feelslike']\n"
   ]
  },
  {
   "cell_type": "code",
   "execution_count": 64,
   "metadata": {},
   "outputs": [
    {
     "data": {
      "text/html": [
       "<div>\n",
       "<style scoped>\n",
       "    .dataframe tbody tr th:only-of-type {\n",
       "        vertical-align: middle;\n",
       "    }\n",
       "\n",
       "    .dataframe tbody tr th {\n",
       "        vertical-align: top;\n",
       "    }\n",
       "\n",
       "    .dataframe thead th {\n",
       "        text-align: right;\n",
       "    }\n",
       "</style>\n",
       "<table border=\"1\" class=\"dataframe\">\n",
       "  <thead>\n",
       "    <tr style=\"text-align: right;\">\n",
       "      <th></th>\n",
       "      <th>time</th>\n",
       "      <th>month</th>\n",
       "      <th>temperature</th>\n",
       "      <th>feelslike</th>\n",
       "      <th>wind</th>\n",
       "      <th>direction</th>\n",
       "      <th>gust</th>\n",
       "      <th>cloud</th>\n",
       "      <th>rain</th>\n",
       "      <th>rain_ratio</th>\n",
       "      <th>pressure</th>\n",
       "      <th>weather</th>\n",
       "    </tr>\n",
       "  </thead>\n",
       "  <tbody>\n",
       "  </tbody>\n",
       "</table>\n",
       "</div>"
      ],
      "text/plain": [
       "Empty DataFrame\n",
       "Columns: [time, month, temperature, feelslike, wind, direction, gust, cloud, rain, rain_ratio, pressure, weather]\n",
       "Index: []"
      ]
     },
     "execution_count": 64,
     "metadata": {},
     "output_type": "execute_result"
    }
   ],
   "source": [
    "data[data['temperature']==0.0]"
   ]
  },
  {
   "cell_type": "markdown",
   "metadata": {},
   "source": [
    "# Gán nhãn"
   ]
  },
  {
   "cell_type": "markdown",
   "metadata": {},
   "source": [
    "Khảo sát giá trị"
   ]
  },
  {
   "cell_type": "code",
   "execution_count": 42,
   "metadata": {},
   "outputs": [],
   "source": [
    "list_w = set()\n",
    "for i in range (len(data)):\n",
    "    list_w.add(data['weather'][i])\n",
    "    "
   ]
  },
  {
   "cell_type": "code",
   "execution_count": 43,
   "metadata": {
    "scrolled": true
   },
   "outputs": [
    {
     "data": {
      "text/plain": [
       "{'Clear',\n",
       " 'Cloudy',\n",
       " 'Fog',\n",
       " 'Heavy rain',\n",
       " 'Heavy rain at times',\n",
       " 'Light drizzle',\n",
       " 'Light rain',\n",
       " 'Light rain shower',\n",
       " 'Mist',\n",
       " 'Moderate or heavy rain shower',\n",
       " 'Moderate rain',\n",
       " 'Moderate rain at times',\n",
       " 'Overcast',\n",
       " 'Partly cloudy',\n",
       " 'Patchy light drizzle',\n",
       " 'Patchy light rain',\n",
       " 'Patchy light rain with thunder',\n",
       " 'Patchy rain possible',\n",
       " 'Thundery outbreaks possible'}"
      ]
     },
     "execution_count": 43,
     "metadata": {},
     "output_type": "execute_result"
    }
   ],
   "source": [
    "list_w"
   ]
  },
  {
   "cell_type": "code",
   "execution_count": 44,
   "metadata": {},
   "outputs": [
    {
     "data": {
      "text/plain": [
       "time            21:00\n",
       "month              12\n",
       "temperature        25\n",
       "feelslike          27\n",
       "wind               13\n",
       "direction         SSE\n",
       "gust               20\n",
       "cloud              79\n",
       "rain              0.0\n",
       "rain_ratio          0\n",
       "pressure         1011\n",
       "weather        Cloudy\n",
       "Name: 23239, dtype: object"
      ]
     },
     "execution_count": 44,
     "metadata": {},
     "output_type": "execute_result"
    }
   ],
   "source": [
    "data.iloc[23239]"
   ]
  },
  {
   "cell_type": "code",
   "execution_count": 45,
   "metadata": {},
   "outputs": [],
   "source": [
    "# gán giá trị của cột sau vào label của cột hiện tại\n",
    "x = data.weather.iloc[data.index>0]\n",
    "data = data.drop(23239)\n",
    "data = data.assign(label = x.values)"
   ]
  },
  {
   "cell_type": "code",
   "execution_count": 46,
   "metadata": {},
   "outputs": [],
   "source": [
    "#lưu data vào 1 file khác\n",
    "filename = \"./data/labeled_weather_data.csv\"\n",
    "with open(filename,\"w\") as f:\n",
    "    \n",
    "    f.write('time\\tmonth\\ttemperature\\tfeelslike\\twind\\tdirection\\tgust\\tcloud\\train\\train_ratio\\tpressure\\tweather\\tlabel\\n')\n",
    "    for i in range(len(data)):\n",
    "        f.write(f\"{data['time'][i]}\\t{data['month'][i]}\\t{data['temperature'][i]}\\t{data['feelslike'][i]}\\t{data['wind'][i]}\\t{data['direction'][i]}\\t{data['gust'][i]}\\t{data['cloud'][i]}\\t{data['rain'][i]}\\t{data['rain_ratio'][i]}\\t{data['pressure'][i]}\\t{data['weather'][i]}\\t{data['label'][i]}\\n\")\n",
    "        "
   ]
  }
 ],
 "metadata": {
  "kernelspec": {
   "display_name": "Python 3",
   "language": "python",
   "name": "python3"
  },
  "language_info": {
   "codemirror_mode": {
    "name": "ipython",
    "version": 3
   },
   "file_extension": ".py",
   "mimetype": "text/x-python",
   "name": "python",
   "nbconvert_exporter": "python",
   "pygments_lexer": "ipython3",
   "version": "3.11.4"
  }
 },
 "nbformat": 4,
 "nbformat_minor": 2
}
