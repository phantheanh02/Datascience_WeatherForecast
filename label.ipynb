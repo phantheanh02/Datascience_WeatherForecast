{
 "cells": [
  {
   "cell_type": "code",
   "execution_count": 7,
   "metadata": {},
   "outputs": [],
   "source": [
    "import numpy as np\n",
    "import pandas as pd"
   ]
  },
  {
   "cell_type": "code",
   "execution_count": 8,
   "metadata": {},
   "outputs": [
    {
     "name": "stdout",
     "output_type": "stream",
     "text": [
      "Conversion completed. CSV file saved as ./data/weather_data.csv\n"
     ]
    }
   ],
   "source": [
    "import csv\n",
    "\n",
    "input_file = './data/weather_data.txt'\n",
    "output_file = './data/weather_data.csv'\n",
    "\n",
    "with open(input_file, 'r') as txt_file, open(output_file, 'w', newline='') as csv_file:\n",
    "    # Read the header and remove leading/trailing whitespaces\n",
    "    header = [col.strip() for col in txt_file.readline().split()]\n",
    "\n",
    "    # Initialize the CSV writer with a tab as the delimiter\n",
    "    csv_writer = csv.writer(csv_file, delimiter=';')\n",
    "\n",
    "    # Write the header to the CSV file\n",
    "    csv_writer.writerow(header)\n",
    "\n",
    "    # Read and write each line\n",
    "    for line in txt_file:\n",
    "        row = [col.strip() for col in line.split('\\t')]\n",
    "        csv_writer.writerow(row)\n",
    "\n",
    "print(f'Conversion completed. CSV file saved as {output_file}')\n"
   ]
  },
  {
   "cell_type": "code",
   "execution_count": 9,
   "metadata": {},
   "outputs": [
    {
     "data": {
      "text/html": [
       "<div>\n",
       "<style scoped>\n",
       "    .dataframe tbody tr th:only-of-type {\n",
       "        vertical-align: middle;\n",
       "    }\n",
       "\n",
       "    .dataframe tbody tr th {\n",
       "        vertical-align: top;\n",
       "    }\n",
       "\n",
       "    .dataframe thead th {\n",
       "        text-align: right;\n",
       "    }\n",
       "</style>\n",
       "<table border=\"1\" class=\"dataframe\">\n",
       "  <thead>\n",
       "    <tr style=\"text-align: right;\">\n",
       "      <th></th>\n",
       "      <th>time</th>\n",
       "      <th>month</th>\n",
       "      <th>temperature</th>\n",
       "      <th>feelslike</th>\n",
       "      <th>wind</th>\n",
       "      <th>direction</th>\n",
       "      <th>gust</th>\n",
       "      <th>cloud</th>\n",
       "      <th>rain</th>\n",
       "      <th>rain_ratio</th>\n",
       "      <th>pressure</th>\n",
       "      <th>weather</th>\n",
       "    </tr>\n",
       "  </thead>\n",
       "  <tbody>\n",
       "    <tr>\n",
       "      <th>0</th>\n",
       "      <td>00:00</td>\n",
       "      <td>1</td>\n",
       "      <td>21</td>\n",
       "      <td>21</td>\n",
       "      <td>7</td>\n",
       "      <td>S</td>\n",
       "      <td>10</td>\n",
       "      <td>92</td>\n",
       "      <td>0.0</td>\n",
       "      <td>0</td>\n",
       "      <td>1024</td>\n",
       "      <td>Overcast</td>\n",
       "    </tr>\n",
       "    <tr>\n",
       "      <th>1</th>\n",
       "      <td>03:00</td>\n",
       "      <td>1</td>\n",
       "      <td>21</td>\n",
       "      <td>21</td>\n",
       "      <td>7</td>\n",
       "      <td>S</td>\n",
       "      <td>10</td>\n",
       "      <td>100</td>\n",
       "      <td>0.0</td>\n",
       "      <td>0</td>\n",
       "      <td>1024</td>\n",
       "      <td>Overcast</td>\n",
       "    </tr>\n",
       "    <tr>\n",
       "      <th>2</th>\n",
       "      <td>06:00</td>\n",
       "      <td>1</td>\n",
       "      <td>20</td>\n",
       "      <td>20</td>\n",
       "      <td>5</td>\n",
       "      <td>SSE</td>\n",
       "      <td>7</td>\n",
       "      <td>89</td>\n",
       "      <td>0.0</td>\n",
       "      <td>0</td>\n",
       "      <td>1024</td>\n",
       "      <td>Overcast</td>\n",
       "    </tr>\n",
       "    <tr>\n",
       "      <th>3</th>\n",
       "      <td>09:00</td>\n",
       "      <td>1</td>\n",
       "      <td>21</td>\n",
       "      <td>21</td>\n",
       "      <td>3</td>\n",
       "      <td>SE</td>\n",
       "      <td>8</td>\n",
       "      <td>94</td>\n",
       "      <td>0.0</td>\n",
       "      <td>0</td>\n",
       "      <td>1026</td>\n",
       "      <td>Overcast</td>\n",
       "    </tr>\n",
       "    <tr>\n",
       "      <th>4</th>\n",
       "      <td>12:00</td>\n",
       "      <td>1</td>\n",
       "      <td>22</td>\n",
       "      <td>22</td>\n",
       "      <td>5</td>\n",
       "      <td>SSE</td>\n",
       "      <td>10</td>\n",
       "      <td>95</td>\n",
       "      <td>0.0</td>\n",
       "      <td>0</td>\n",
       "      <td>1024</td>\n",
       "      <td>Overcast</td>\n",
       "    </tr>\n",
       "  </tbody>\n",
       "</table>\n",
       "</div>"
      ],
      "text/plain": [
       "    time  month  temperature  feelslike  wind direction  gust  cloud  rain  \\\n",
       "0  00:00      1           21         21     7         S    10     92   0.0   \n",
       "1  03:00      1           21         21     7         S    10    100   0.0   \n",
       "2  06:00      1           20         20     5       SSE     7     89   0.0   \n",
       "3  09:00      1           21         21     3        SE     8     94   0.0   \n",
       "4  12:00      1           22         22     5       SSE    10     95   0.0   \n",
       "\n",
       "   rain_ratio  pressure   weather  \n",
       "0           0      1024  Overcast  \n",
       "1           0      1024  Overcast  \n",
       "2           0      1024  Overcast  \n",
       "3           0      1026  Overcast  \n",
       "4           0      1024  Overcast  "
      ]
     },
     "execution_count": 9,
     "metadata": {},
     "output_type": "execute_result"
    }
   ],
   "source": [
    "#do quá trình kiểm tra file weather_data.csv nhóm mình đã phân chia cột ra để dễ kiểm tra dữ liệu\n",
    "#nên nếu muốn code hoạt động thì hãy vào file data và chia cột file csv (theo tab)\n",
    "data = pd.read_csv(\"./data/weather_data.csv\", delimiter = ';')\n",
    "data.head()"
   ]
  },
  {
   "cell_type": "code",
   "execution_count": 10,
   "metadata": {},
   "outputs": [
    {
     "name": "stdout",
     "output_type": "stream",
     "text": [
      "<class 'pandas.core.frame.DataFrame'>\n",
      "RangeIndex: 11552 entries, 0 to 11551\n",
      "Data columns (total 12 columns):\n",
      " #   Column       Non-Null Count  Dtype  \n",
      "---  ------       --------------  -----  \n",
      " 0   time         11552 non-null  object \n",
      " 1   month        11552 non-null  int64  \n",
      " 2   temperature  11552 non-null  int64  \n",
      " 3   feelslike    11552 non-null  int64  \n",
      " 4   wind         11552 non-null  int64  \n",
      " 5   direction    11552 non-null  object \n",
      " 6   gust         11552 non-null  int64  \n",
      " 7   cloud        11552 non-null  int64  \n",
      " 8   rain         11552 non-null  float64\n",
      " 9   rain_ratio   11552 non-null  int64  \n",
      " 10  pressure     11552 non-null  int64  \n",
      " 11  weather      11552 non-null  object \n",
      "dtypes: float64(1), int64(8), object(3)\n",
      "memory usage: 1.1+ MB\n"
     ]
    }
   ],
   "source": [
    "data.info()"
   ]
  },
  {
   "cell_type": "markdown",
   "metadata": {},
   "source": [
    "# Nhận xét\n",
    "Dữ liệu không có trống nhưng ta kiểm tra xem có giá trị nào bằng 0.0 hay không"
   ]
  },
  {
   "cell_type": "code",
   "execution_count": 11,
   "metadata": {},
   "outputs": [
    {
     "data": {
      "text/plain": [
       "0"
      ]
     },
     "execution_count": 11,
     "metadata": {},
     "output_type": "execute_result"
    }
   ],
   "source": [
    "len(data[data['temperature']== 0.0])"
   ]
  },
  {
   "cell_type": "code",
   "execution_count": 12,
   "metadata": {},
   "outputs": [
    {
     "data": {
      "text/plain": [
       "0"
      ]
     },
     "execution_count": 12,
     "metadata": {},
     "output_type": "execute_result"
    }
   ],
   "source": [
    "len(data[data['feelslike']== 0.0])"
   ]
  },
  {
   "cell_type": "code",
   "execution_count": 13,
   "metadata": {},
   "outputs": [
    {
     "data": {
      "text/plain": [
       "8"
      ]
     },
     "execution_count": 13,
     "metadata": {},
     "output_type": "execute_result"
    }
   ],
   "source": [
    "len(data[data['wind']== 0.0])"
   ]
  },
  {
   "cell_type": "code",
   "execution_count": 14,
   "metadata": {},
   "outputs": [
    {
     "data": {
      "text/plain": [
       "0"
      ]
     },
     "execution_count": 14,
     "metadata": {},
     "output_type": "execute_result"
    }
   ],
   "source": [
    "len(data[data['direction']== 0.0])"
   ]
  },
  {
   "cell_type": "code",
   "execution_count": 15,
   "metadata": {},
   "outputs": [
    {
     "data": {
      "text/plain": [
       "0"
      ]
     },
     "execution_count": 15,
     "metadata": {},
     "output_type": "execute_result"
    }
   ],
   "source": [
    "len(data[data['gust']== 0.0])"
   ]
  },
  {
   "cell_type": "code",
   "execution_count": 16,
   "metadata": {},
   "outputs": [
    {
     "data": {
      "text/plain": [
       "45"
      ]
     },
     "execution_count": 16,
     "metadata": {},
     "output_type": "execute_result"
    }
   ],
   "source": [
    "len(data[data['cloud']== 0.0])"
   ]
  },
  {
   "cell_type": "code",
   "execution_count": 17,
   "metadata": {
    "scrolled": true
   },
   "outputs": [
    {
     "data": {
      "text/plain": [
       "8625"
      ]
     },
     "execution_count": 17,
     "metadata": {},
     "output_type": "execute_result"
    }
   ],
   "source": [
    "len(data[data['rain']== 0.0])"
   ]
  },
  {
   "cell_type": "code",
   "execution_count": 18,
   "metadata": {},
   "outputs": [
    {
     "data": {
      "text/plain": [
       "11552"
      ]
     },
     "execution_count": 18,
     "metadata": {},
     "output_type": "execute_result"
    }
   ],
   "source": [
    "len(data[data['rain_ratio']== 0.0])"
   ]
  },
  {
   "cell_type": "code",
   "execution_count": 19,
   "metadata": {
    "scrolled": true
   },
   "outputs": [
    {
     "data": {
      "text/plain": [
       "0"
      ]
     },
     "execution_count": 19,
     "metadata": {},
     "output_type": "execute_result"
    }
   ],
   "source": [
    "len(data[data['pressure']== 0.0])"
   ]
  },
  {
   "cell_type": "markdown",
   "metadata": {},
   "source": [
    "# Nhận xét\n",
    "Có một số dữ liệu là 0.0 nhưng hầu hết là hợp lý\n",
    "trừ trường hợp của \"temperature\" vì TPHCM không bao giờ có nhiệt độ là 0 độ C cả\n",
    "\n",
    "Do feelslike có giá trị chênh lệch không nhiều so với temperature nên ta tạm lấy feelslike bù vào 1 số giá trị 0.0 của temperature"
   ]
  },
  {
   "cell_type": "code",
   "execution_count": 20,
   "metadata": {},
   "outputs": [
    {
     "data": {
      "text/html": [
       "<div>\n",
       "<style scoped>\n",
       "    .dataframe tbody tr th:only-of-type {\n",
       "        vertical-align: middle;\n",
       "    }\n",
       "\n",
       "    .dataframe tbody tr th {\n",
       "        vertical-align: top;\n",
       "    }\n",
       "\n",
       "    .dataframe thead th {\n",
       "        text-align: right;\n",
       "    }\n",
       "</style>\n",
       "<table border=\"1\" class=\"dataframe\">\n",
       "  <thead>\n",
       "    <tr style=\"text-align: right;\">\n",
       "      <th></th>\n",
       "      <th>time</th>\n",
       "      <th>month</th>\n",
       "      <th>temperature</th>\n",
       "      <th>feelslike</th>\n",
       "      <th>wind</th>\n",
       "      <th>direction</th>\n",
       "      <th>gust</th>\n",
       "      <th>cloud</th>\n",
       "      <th>rain</th>\n",
       "      <th>rain_ratio</th>\n",
       "      <th>pressure</th>\n",
       "      <th>weather</th>\n",
       "    </tr>\n",
       "  </thead>\n",
       "  <tbody>\n",
       "  </tbody>\n",
       "</table>\n",
       "</div>"
      ],
      "text/plain": [
       "Empty DataFrame\n",
       "Columns: [time, month, temperature, feelslike, wind, direction, gust, cloud, rain, rain_ratio, pressure, weather]\n",
       "Index: []"
      ]
     },
     "execution_count": 20,
     "metadata": {},
     "output_type": "execute_result"
    }
   ],
   "source": [
    "data[data['temperature']==0.0]"
   ]
  },
  {
   "cell_type": "code",
   "execution_count": 21,
   "metadata": {},
   "outputs": [
    {
     "name": "stderr",
     "output_type": "stream",
     "text": [
      "C:\\Users\\acer\\AppData\\Local\\Temp\\ipykernel_12188\\4248264127.py:2: SettingWithCopyWarning: \n",
      "A value is trying to be set on a copy of a slice from a DataFrame\n",
      "\n",
      "See the caveats in the documentation: https://pandas.pydata.org/pandas-docs/stable/user_guide/indexing.html#returning-a-view-versus-a-copy\n",
      "  data['temperature'][i] = data['feelslike'][i]\n"
     ]
    }
   ],
   "source": [
    "for i in [8511]:\n",
    "    data['temperature'][i] = data['feelslike'][i]"
   ]
  },
  {
   "cell_type": "markdown",
   "metadata": {},
   "source": [
    "# Gán nhãn"
   ]
  },
  {
   "cell_type": "markdown",
   "metadata": {},
   "source": [
    "Khảo sát giá trị"
   ]
  },
  {
   "cell_type": "code",
   "execution_count": 22,
   "metadata": {},
   "outputs": [],
   "source": [
    "list_w = set()\n",
    "for i in range (len(data)):\n",
    "    list_w.add(data['weather'][i])"
   ]
  },
  {
   "cell_type": "code",
   "execution_count": 23,
   "metadata": {
    "scrolled": true
   },
   "outputs": [
    {
     "data": {
      "text/plain": [
       "{'Clear',\n",
       " 'Cloudy',\n",
       " 'Fog',\n",
       " 'Heavy rain',\n",
       " 'Heavy rain at times',\n",
       " 'Light drizzle',\n",
       " 'Light rain',\n",
       " 'Light rain shower',\n",
       " 'Mist',\n",
       " 'Moderate or heavy rain shower',\n",
       " 'Moderate rain',\n",
       " 'Moderate rain at times',\n",
       " 'Overcast',\n",
       " 'Partly cloudy',\n",
       " 'Patchy light drizzle',\n",
       " 'Patchy light rain',\n",
       " 'Patchy light rain with thunder',\n",
       " 'Patchy rain possible',\n",
       " 'Thundery outbreaks possible'}"
      ]
     },
     "execution_count": 23,
     "metadata": {},
     "output_type": "execute_result"
    }
   ],
   "source": [
    "list_w"
   ]
  },
  {
   "cell_type": "code",
   "execution_count": 24,
   "metadata": {},
   "outputs": [
    {
     "data": {
      "text/plain": [
       "time            21:00\n",
       "month              12\n",
       "temperature        25\n",
       "feelslike          27\n",
       "wind               13\n",
       "direction         SSE\n",
       "gust               20\n",
       "cloud              79\n",
       "rain              0.0\n",
       "rain_ratio          0\n",
       "pressure         1011\n",
       "weather        Cloudy\n",
       "Name: 11551, dtype: object"
      ]
     },
     "execution_count": 24,
     "metadata": {},
     "output_type": "execute_result"
    }
   ],
   "source": [
    "data.iloc[11551]"
   ]
  },
  {
   "cell_type": "code",
   "execution_count": 25,
   "metadata": {},
   "outputs": [],
   "source": [
    "# gán giá trị của cột sau vào label của cột hiện tại\n",
    "x = data.weather.iloc[data.index>0]\n",
    "data = data.drop(11551)\n",
    "data = data.assign(label = x.values)"
   ]
  },
  {
   "cell_type": "code",
   "execution_count": 157,
   "metadata": {},
   "outputs": [],
   "source": [
    "#lưu data vào 1 file khác\n",
    "filename = \"labeled_weather_data.csv\"\n",
    "with open(filename,\"w\") as f:\n",
    "    \n",
    "\n",
    "    f.write('time\\tmonth\\ttemperature\\tfeelslike\\twind\\tdirection\\tgust\\tcloud\\train\\train_ratio\\tpressure\\tweather\\tlabel\\n')\n",
    "    for i in range(len(data)):\n",
    "        f.write(f\"{data['time'][i]}\\t{data['month'][i]}\\t{data['temperature'][i]}\\t{data['feelslike'][i]}\\t{data['wind'][i]}\\t{data['direction'][i]}\\t{data['gust'][i]}\\t{data['cloud'][i]}\\t{data['rain'][i]}\\t{data['rain_ratio'][i]}\\t{data['pressure'][i]}\\t{data['weather'][i]}\\t{data['label'][i]}\\n\")\n",
    "        "
   ]
  }
 ],
 "metadata": {
  "kernelspec": {
   "display_name": "Python 3",
   "language": "python",
   "name": "python3"
  },
  "language_info": {
   "codemirror_mode": {
    "name": "ipython",
    "version": 3
   },
   "file_extension": ".py",
   "mimetype": "text/x-python",
   "name": "python",
   "nbconvert_exporter": "python",
   "pygments_lexer": "ipython3",
   "version": "3.11.4"
  }
 },
 "nbformat": 4,
 "nbformat_minor": 2
}
